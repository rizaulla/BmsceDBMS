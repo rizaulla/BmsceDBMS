{
 "cells": [
  {
   "cell_type": "code",
   "execution_count": 5,
   "id": "60cb433f-05bd-4013-babd-b7ce5238ffd8",
   "metadata": {},
   "outputs": [],
   "source": [
    "import sqlite3\n",
    "conn = sqlite3.connect('Banking_EnterprizeDB.db')\n",
    "c = conn.cursor()"
   ]
  },
  {
   "cell_type": "code",
   "execution_count": 9,
   "id": "cd2c57e4-07a4-4649-9a8d-8d299957a533",
   "metadata": {},
   "outputs": [
    {
     "ename": "OperationalError",
     "evalue": "table Branch already exists",
     "output_type": "error",
     "traceback": [
      "\u001b[1;31m---------------------------------------------------------------------------\u001b[0m",
      "\u001b[1;31mOperationalError\u001b[0m                          Traceback (most recent call last)",
      "Cell \u001b[1;32mIn[9], line 1\u001b[0m\n\u001b[1;32m----> 1\u001b[0m c\u001b[38;5;241m.\u001b[39mexecute(\u001b[38;5;124m\"\u001b[39m\u001b[38;5;124mCREATE TABLE Branch( Branch_Name varchar(30),Branch_city varchar(20),Assets real ,Primary Key(Branch_name))\u001b[39m\u001b[38;5;124m\"\u001b[39m)\n",
      "\u001b[1;31mOperationalError\u001b[0m: table Branch already exists"
     ]
    }
   ],
   "source": [
    "c.execute(\"CREATE TABLE Branch( Branch_Name varchar(30),Branch_city varchar(20),Assets real ,Primary Key(Branch_name))\")"
   ]
  },
  {
   "cell_type": "code",
   "execution_count": 11,
   "id": "7c774193-c135-4197-9dea-b3fcbccbd8b1",
   "metadata": {},
   "outputs": [
    {
     "data": {
      "text/plain": [
       "<sqlite3.Cursor at 0x2dd32c3aac0>"
      ]
     },
     "execution_count": 11,
     "metadata": {},
     "output_type": "execute_result"
    }
   ],
   "source": [
    "Pe=[ ( \"BOBV\", \"Virajpet\",\"1000000\"),\n",
    "         ( \"BOBM\" ,  \"Madikeri\" , \"2000000\"),\n",
    "          ( \"BOBG\" ,  \"Gonikoppal\" , \"300000\"),\n",
    "           ( \"BOBB\" ,  \"Bitangala\" , \"400000\"),\n",
    "           ( \"BOBN\" ,  \"Nelamangala\" , \"500000\")]\n",
    "c.executemany(\"INSERT INTO Branch Values(?,?,?)\",Pe)"
   ]
  },
  {
   "cell_type": "code",
   "execution_count": 15,
   "id": "4f6cb5ce-5eda-42a6-a19a-70a2b5c3ceb8",
   "metadata": {},
   "outputs": [
    {
     "name": "stdout",
     "output_type": "stream",
     "text": [
      "Records in the Branch Table\n",
      "('BOBV', 'Virajpet', 1000000.0)\n",
      "('BOBM', 'Madikeri', 2000000.0)\n",
      "('BOBG', 'Gonikoppal', 300000.0)\n",
      "('BOBB', 'Bitangala', 400000.0)\n",
      "('BOBN', 'Nelamangala', 500000.0)\n"
     ]
    }
   ],
   "source": [
    "print(\"Records in the Branch Table\")\n",
    "for row in c.execute(\"Select * From Branch\"):\n",
    "    print(row)"
   ]
  },
  {
   "cell_type": "code",
   "execution_count": 17,
   "id": "34e895fd-2916-49ed-83f8-e7fd2d5985c8",
   "metadata": {},
   "outputs": [
    {
     "ename": "IntegrityError",
     "evalue": "UNIQUE constraint failed: Branch.Branch_Name",
     "output_type": "error",
     "traceback": [
      "\u001b[1;31m---------------------------------------------------------------------------\u001b[0m",
      "\u001b[1;31mIntegrityError\u001b[0m                            Traceback (most recent call last)",
      "Cell \u001b[1;32mIn[17], line 6\u001b[0m\n\u001b[0;32m      1\u001b[0m Pe\u001b[38;5;241m=\u001b[39m[ ( \u001b[38;5;124m\"\u001b[39m\u001b[38;5;124mBOBV\u001b[39m\u001b[38;5;124m\"\u001b[39m, \u001b[38;5;124m\"\u001b[39m\u001b[38;5;124mVirajpet\u001b[39m\u001b[38;5;124m\"\u001b[39m,\u001b[38;5;124m\"\u001b[39m\u001b[38;5;124m1000000\u001b[39m\u001b[38;5;124m\"\u001b[39m),\n\u001b[0;32m      2\u001b[0m          ( \u001b[38;5;124m\"\u001b[39m\u001b[38;5;124mBOBM\u001b[39m\u001b[38;5;124m\"\u001b[39m ,  \u001b[38;5;124m\"\u001b[39m\u001b[38;5;124mMadikeri\u001b[39m\u001b[38;5;124m\"\u001b[39m , \u001b[38;5;124m\"\u001b[39m\u001b[38;5;124m2000000\u001b[39m\u001b[38;5;124m\"\u001b[39m),\n\u001b[0;32m      3\u001b[0m           ( \u001b[38;5;124m\"\u001b[39m\u001b[38;5;124mBOBG\u001b[39m\u001b[38;5;124m\"\u001b[39m ,  \u001b[38;5;124m\"\u001b[39m\u001b[38;5;124mGonikoppal\u001b[39m\u001b[38;5;124m\"\u001b[39m , \u001b[38;5;124m\"\u001b[39m\u001b[38;5;124m300000\u001b[39m\u001b[38;5;124m\"\u001b[39m),\n\u001b[0;32m      4\u001b[0m            ( \u001b[38;5;124m\"\u001b[39m\u001b[38;5;124mBOBB\u001b[39m\u001b[38;5;124m\"\u001b[39m ,  \u001b[38;5;124m\"\u001b[39m\u001b[38;5;124mBitangala\u001b[39m\u001b[38;5;124m\"\u001b[39m , \u001b[38;5;124m\"\u001b[39m\u001b[38;5;124m400000\u001b[39m\u001b[38;5;124m\"\u001b[39m),\n\u001b[0;32m      5\u001b[0m            ( \u001b[38;5;124m\"\u001b[39m\u001b[38;5;124mBOBN\u001b[39m\u001b[38;5;124m\"\u001b[39m ,  \u001b[38;5;124m\"\u001b[39m\u001b[38;5;124mNelamangala\u001b[39m\u001b[38;5;124m\"\u001b[39m , \u001b[38;5;124m\"\u001b[39m\u001b[38;5;124m500000\u001b[39m\u001b[38;5;124m\"\u001b[39m)]\n\u001b[1;32m----> 6\u001b[0m c\u001b[38;5;241m.\u001b[39mexecutemany(\u001b[38;5;124m\"\u001b[39m\u001b[38;5;124mINSERT INTO Branch Values(?,?,?)\u001b[39m\u001b[38;5;124m\"\u001b[39m,Pe)\n",
      "\u001b[1;31mIntegrityError\u001b[0m: UNIQUE constraint failed: Branch.Branch_Name"
     ]
    }
   ],
   "source": [
    "Pe=[ ( \"BOBV\", \"Virajpet\",\"1000000\"),\n",
    "         ( \"BOBM\" ,  \"Madikeri\" , \"2000000\"),\n",
    "          ( \"BOBG\" ,  \"Gonikoppal\" , \"300000\"),\n",
    "           ( \"BOBB\" ,  \"Bitangala\" , \"400000\"),\n",
    "           ( \"BOBN\" ,  \"Nelamangala\" , \"500000\")]\n",
    "c.executemany(\"INSERT INTO Branch Values(?,?,?)\",Pe)"
   ]
  },
  {
   "cell_type": "code",
   "execution_count": 19,
   "id": "7345e928-d231-4e0b-85d1-81bc01084211",
   "metadata": {},
   "outputs": [
    {
     "name": "stdout",
     "output_type": "stream",
     "text": [
      "Records in the Branch Table\n",
      "('BOBV', 'Virajpet', 1000000.0)\n",
      "('BOBM', 'Madikeri', 2000000.0)\n",
      "('BOBG', 'Gonikoppal', 300000.0)\n",
      "('BOBB', 'Bitangala', 400000.0)\n",
      "('BOBN', 'Nelamangala', 500000.0)\n"
     ]
    }
   ],
   "source": [
    "print(\"Records in the Branch Table\")\n",
    "for row in c.execute(\"Select * From Branch\"):\n",
    "    print(row)"
   ]
  },
  {
   "cell_type": "code",
   "execution_count": 21,
   "id": "2b15ff13-351b-42b2-99ac-91c32d99418d",
   "metadata": {},
   "outputs": [
    {
     "data": {
      "text/plain": [
       "<sqlite3.Cursor at 0x2dd32c3aac0>"
      ]
     },
     "execution_count": 21,
     "metadata": {},
     "output_type": "execute_result"
    }
   ],
   "source": [
    "c.execute(\"CREATE TABLE BankAccount( Account_no varchar(30),Branch_Name varchar(20),Balance real ,Primary Key(Account_no),foreign key(Branch_Name) references Branch(Branch_Name))\")"
   ]
  },
  {
   "cell_type": "code",
   "execution_count": 25,
   "id": "c18090b0-2937-4132-9d11-46cdb852a908",
   "metadata": {},
   "outputs": [
    {
     "ename": "IntegrityError",
     "evalue": "UNIQUE constraint failed: BankAccount.Account_no",
     "output_type": "error",
     "traceback": [
      "\u001b[1;31m---------------------------------------------------------------------------\u001b[0m",
      "\u001b[1;31mIntegrityError\u001b[0m                            Traceback (most recent call last)",
      "Cell \u001b[1;32mIn[25], line 6\u001b[0m\n\u001b[0;32m      1\u001b[0m Pe\u001b[38;5;241m=\u001b[39m[ ( \u001b[38;5;124m\"\u001b[39m\u001b[38;5;124m111111111\u001b[39m\u001b[38;5;124m\"\u001b[39m, \u001b[38;5;124m\"\u001b[39m\u001b[38;5;124mBOBV\u001b[39m\u001b[38;5;124m\"\u001b[39m,\u001b[38;5;124m\"\u001b[39m\u001b[38;5;124m150000\u001b[39m\u001b[38;5;124m\"\u001b[39m),\n\u001b[0;32m      2\u001b[0m          ( \u001b[38;5;124m\"\u001b[39m\u001b[38;5;124m222222222\u001b[39m\u001b[38;5;124m\"\u001b[39m ,  \u001b[38;5;124m\"\u001b[39m\u001b[38;5;124mBOBM\u001b[39m\u001b[38;5;124m\"\u001b[39m , \u001b[38;5;124m\"\u001b[39m\u001b[38;5;124m20000\u001b[39m\u001b[38;5;124m\"\u001b[39m),\n\u001b[0;32m      3\u001b[0m           ( \u001b[38;5;124m\"\u001b[39m\u001b[38;5;124m333333333\u001b[39m\u001b[38;5;124m\"\u001b[39m ,  \u001b[38;5;124m\"\u001b[39m\u001b[38;5;124mBOBG\u001b[39m\u001b[38;5;124m\"\u001b[39m , \u001b[38;5;124m\"\u001b[39m\u001b[38;5;124m3000\u001b[39m\u001b[38;5;124m\"\u001b[39m),\n\u001b[0;32m      4\u001b[0m            ( \u001b[38;5;124m\"\u001b[39m\u001b[38;5;124m444444444\u001b[39m\u001b[38;5;124m\"\u001b[39m ,  \u001b[38;5;124m\"\u001b[39m\u001b[38;5;124mBOBB\u001b[39m\u001b[38;5;124m\"\u001b[39m , \u001b[38;5;124m\"\u001b[39m\u001b[38;5;124m4000\u001b[39m\u001b[38;5;124m\"\u001b[39m),\n\u001b[0;32m      5\u001b[0m            ( \u001b[38;5;124m\"\u001b[39m\u001b[38;5;124m555555555\u001b[39m\u001b[38;5;124m\"\u001b[39m ,  \u001b[38;5;124m\"\u001b[39m\u001b[38;5;124mBOBN\u001b[39m\u001b[38;5;124m\"\u001b[39m , \u001b[38;5;124m\"\u001b[39m\u001b[38;5;124m8500\u001b[39m\u001b[38;5;124m\"\u001b[39m)]\n\u001b[1;32m----> 6\u001b[0m c\u001b[38;5;241m.\u001b[39mexecutemany(\u001b[38;5;124m\"\u001b[39m\u001b[38;5;124mINSERT INTO BankAccount Values(?,?,?)\u001b[39m\u001b[38;5;124m\"\u001b[39m,Pe)\n",
      "\u001b[1;31mIntegrityError\u001b[0m: UNIQUE constraint failed: BankAccount.Account_no"
     ]
    }
   ],
   "source": [
    "Pe=[ ( \"111111111\", \"BOBV\",\"150000\"),\n",
    "         ( \"222222222\" ,  \"BOBM\" , \"20000\"),\n",
    "          ( \"333333333\" ,  \"BOBG\" , \"3000\"),\n",
    "           ( \"444444444\" ,  \"BOBB\" , \"4000\"),\n",
    "           ( \"555555555\" ,  \"BOBN\" , \"8500\")]\n",
    "c.executemany(\"INSERT INTO BankAccount Values(?,?,?)\",Pe)"
   ]
  },
  {
   "cell_type": "code",
   "execution_count": 29,
   "id": "a082e0ad-5cea-4cd7-aa95-f399ce640357",
   "metadata": {},
   "outputs": [
    {
     "name": "stdout",
     "output_type": "stream",
     "text": [
      "Records in the Bank_Account  Table\n",
      "('111111111', 'BOBV', 150000.0)\n",
      "('222222222', 'BOBM', 20000.0)\n",
      "('333333333', 'BOBG', 3000.0)\n",
      "('444444444', 'BOBB', 4000.0)\n",
      "('555555555', 'BOBN', 8500.0)\n"
     ]
    }
   ],
   "source": [
    "print(\"Records in the Bank_Account  Table\")\n",
    "for row in c.execute(\"Select * From BankAccount\"):\n",
    "    print(row)"
   ]
  },
  {
   "cell_type": "code",
   "execution_count": 37,
   "id": "a35072bc-9898-4711-ac34-8cb9d7031a7e",
   "metadata": {},
   "outputs": [
    {
     "ename": "OperationalError",
     "evalue": "table BankCustomer already exists",
     "output_type": "error",
     "traceback": [
      "\u001b[1;31m---------------------------------------------------------------------------\u001b[0m",
      "\u001b[1;31mOperationalError\u001b[0m                          Traceback (most recent call last)",
      "Cell \u001b[1;32mIn[37], line 1\u001b[0m\n\u001b[1;32m----> 1\u001b[0m c\u001b[38;5;241m.\u001b[39mexecute(\u001b[38;5;124m\"\u001b[39m\u001b[38;5;124mCREATE TABLE BankCustomer( Customer_name varchar(30),Customer_Street varchar(20),Customer_City varchar(30) ,Primary Key(Customer_name))\u001b[39m\u001b[38;5;124m\"\u001b[39m)\n",
      "\u001b[1;31mOperationalError\u001b[0m: table BankCustomer already exists"
     ]
    }
   ],
   "source": [
    "c.execute(\"CREATE TABLE BankCustomer( Customer_name varchar(30),Customer_Street varchar(20),Customer_City varchar(30) ,Primary Key(Customer_name))\")"
   ]
  },
  {
   "cell_type": "code",
   "execution_count": 73,
   "id": "64d3090b-0ebf-4d31-bb81-63d9b422b6de",
   "metadata": {},
   "outputs": [
    {
     "data": {
      "text/plain": [
       "<sqlite3.Cursor at 0x2dd32c3aac0>"
      ]
     },
     "execution_count": 73,
     "metadata": {},
     "output_type": "execute_result"
    }
   ],
   "source": [
    "Pe=[ ( \"Rizaulla\", \"Gonikoppal ROad\",\"Virajpet\"),\n",
    "         ( \"Kushalappa\" ,  \"Chickpet Road\" , \"Madikeri\"),\n",
    "          ( \"Vishal\" ,  \"Gs Street\" , \"Gonikoppal\"),\n",
    "           ( \"Mubarak\" ,  \"Badaga Road\" , \"Bitangala\"),\n",
    "           ( \"yashwant\" ,  \"Hunsur Road\" , \"\")]\n",
    "c.executemany(\"INSERT INTO BankCustomer Values(?,?,?)\",Pe)"
   ]
  },
  {
   "cell_type": "code",
   "execution_count": 75,
   "id": "ca904b62-7af4-40b5-bc0d-5f5bf3ba9eb4",
   "metadata": {},
   "outputs": [
    {
     "name": "stdout",
     "output_type": "stream",
     "text": [
      "Records in the Bank_Customer  Table\n",
      "('Rizaulla', 'Gonikoppal ROad', 'Virajpet')\n",
      "('Kushalappa', 'Chickpet Road', 'Madikeri')\n",
      "('Vishal', 'Gs Street', 'Gonikoppal')\n",
      "('Mubarak', 'Badaga Road', 'Bitangala')\n",
      "('yashwant', 'Hunsur Road', '')\n"
     ]
    }
   ],
   "source": [
    "print(\"Records in the Bank_Customer  Table\")\n",
    "for row in c.execute(\"Select * From BankCustomer\"):\n",
    "    print(row)"
   ]
  },
  {
   "cell_type": "code",
   "execution_count": null,
   "id": "1b5015f3-f6a0-4600-a2a7-53cc09baa8a3",
   "metadata": {},
   "outputs": [],
   "source": [
    "c.execute(\"CREATE TABLE BankCustomer( Customer_name varchar(30),Customer_Street varchar(20),Customer_City varchar(30) ,Primary Key(Customer_name))\")"
   ]
  }
 ],
 "metadata": {
  "kernelspec": {
   "display_name": "Python 3 (ipykernel)",
   "language": "python",
   "name": "python3"
  },
  "language_info": {
   "codemirror_mode": {
    "name": "ipython",
    "version": 3
   },
   "file_extension": ".py",
   "mimetype": "text/x-python",
   "name": "python",
   "nbconvert_exporter": "python",
   "pygments_lexer": "ipython3",
   "version": "3.12.4"
  }
 },
 "nbformat": 4,
 "nbformat_minor": 5
}
